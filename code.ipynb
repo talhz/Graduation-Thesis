{
 "cells": [
  {
   "cell_type": "markdown",
   "id": "9fc0c16d",
   "metadata": {},
   "source": [
    "# Graduation Thesis"
   ]
  },
  {
   "cell_type": "code",
   "execution_count": 3,
   "id": "77039338",
   "metadata": {},
   "outputs": [],
   "source": [
    "import numpy as np\n",
    "import matplotlib.pyplot as plt\n",
    "import scipy.linalg as linalg"
   ]
  },
  {
   "cell_type": "code",
   "execution_count": 5,
   "id": "ed996978",
   "metadata": {},
   "outputs": [],
   "source": [
    "np.random.seed(1258)"
   ]
  },
  {
   "cell_type": "code",
   "execution_count": 117,
   "id": "1c32ff4e",
   "metadata": {},
   "outputs": [],
   "source": [
    "# shifts of mean and variances\n",
    "x = []\n",
    "y = []\n",
    "for t in range(100):\n",
    "    xt = np.random.normal(0, 1)\n",
    "    yt = xt + np.random.normal(5, 0.5)\n",
    "    x.append(xt)\n",
    "    y.append(yt)\n",
    "for t in range(100):\n",
    "    xt = np.random.normal(0, 1)\n",
    "    yt = xt + np.random.normal(1, 0.5)\n",
    "    x.append(xt)\n",
    "    y.append(yt)\n",
    "\n",
    "for t in range(100):\n",
    "    xt = np.random.normal(0, 1)\n",
    "    yt = xt + np.random.normal(8, 1)\n",
    "    x.append(xt)\n",
    "    y.append(yt)"
   ]
  },
  {
   "cell_type": "code",
   "execution_count": 118,
   "id": "f00b0cdd",
   "metadata": {},
   "outputs": [],
   "source": [
    "mean1 = [np.array(np.mean(np.array(x)[:100] - np.array(y)[:100])) for i in range(100)]\n",
    "mean2 = [np.array(np.mean(np.array(x)[100:200] - np.array(y)[100:200])) for i in range(100)]\n",
    "mean3 = [np.array(np.mean(np.array(x)[200:] - np.array(y)[200:])) for i in range(100)]"
   ]
  },
  {
   "cell_type": "code",
   "execution_count": 124,
   "id": "e91f3dff",
   "metadata": {},
   "outputs": [],
   "source": [
    "def res_mean(t):\n",
    "    if t < 100:\n",
    "        return mean1\n",
    "    elif 100 <= t < 200:\n",
    "        return mean2\n",
    "    return mean3"
   ]
  },
  {
   "cell_type": "code",
   "execution_count": 129,
   "id": "825232b6",
   "metadata": {},
   "outputs": [],
   "source": [
    "t = np.arange(300)\n",
    "resmean = [res_mean(t) for t in range(300)]"
   ]
  },
  {
   "cell_type": "code",
   "execution_count": 130,
   "id": "ce143c5a",
   "metadata": {},
   "outputs": [
    {
     "data": {
      "text/plain": [
       "[<matplotlib.lines.Line2D at 0x7f8acdf3cfa0>,\n",
       " <matplotlib.lines.Line2D at 0x7f8acdf51100>,\n",
       " <matplotlib.lines.Line2D at 0x7f8acdf511c0>,\n",
       " <matplotlib.lines.Line2D at 0x7f8acdf51280>,\n",
       " <matplotlib.lines.Line2D at 0x7f8acdf51340>,\n",
       " <matplotlib.lines.Line2D at 0x7f8acdf51400>,\n",
       " <matplotlib.lines.Line2D at 0x7f8acdf514c0>,\n",
       " <matplotlib.lines.Line2D at 0x7f8acdf51580>,\n",
       " <matplotlib.lines.Line2D at 0x7f8acdf51640>,\n",
       " <matplotlib.lines.Line2D at 0x7f8acdf51700>,\n",
       " <matplotlib.lines.Line2D at 0x7f8acdf517c0>,\n",
       " <matplotlib.lines.Line2D at 0x7f8acdf51880>,\n",
       " <matplotlib.lines.Line2D at 0x7f8acdf51940>,\n",
       " <matplotlib.lines.Line2D at 0x7f8acdf51a00>,\n",
       " <matplotlib.lines.Line2D at 0x7f8acdf51ac0>,\n",
       " <matplotlib.lines.Line2D at 0x7f8acdf51b80>,\n",
       " <matplotlib.lines.Line2D at 0x7f8acdf51c40>,\n",
       " <matplotlib.lines.Line2D at 0x7f8acdf51d00>,\n",
       " <matplotlib.lines.Line2D at 0x7f8acdf51dc0>,\n",
       " <matplotlib.lines.Line2D at 0x7f8acdf51e80>,\n",
       " <matplotlib.lines.Line2D at 0x7f8acdf51f40>,\n",
       " <matplotlib.lines.Line2D at 0x7f8acdf4b040>,\n",
       " <matplotlib.lines.Line2D at 0x7f8acdf4b100>,\n",
       " <matplotlib.lines.Line2D at 0x7f8acdf4b1c0>,\n",
       " <matplotlib.lines.Line2D at 0x7f8acdf4b280>,\n",
       " <matplotlib.lines.Line2D at 0x7f8acdf4b340>,\n",
       " <matplotlib.lines.Line2D at 0x7f8acdf4b400>,\n",
       " <matplotlib.lines.Line2D at 0x7f8acdf4b4c0>,\n",
       " <matplotlib.lines.Line2D at 0x7f8acdf4b580>,\n",
       " <matplotlib.lines.Line2D at 0x7f8acdf4b640>,\n",
       " <matplotlib.lines.Line2D at 0x7f8acdf4b700>,\n",
       " <matplotlib.lines.Line2D at 0x7f8acdf4b7c0>,\n",
       " <matplotlib.lines.Line2D at 0x7f8acdf4b880>,\n",
       " <matplotlib.lines.Line2D at 0x7f8acdf4b940>,\n",
       " <matplotlib.lines.Line2D at 0x7f8acdf4ba00>,\n",
       " <matplotlib.lines.Line2D at 0x7f8acdf4bac0>,\n",
       " <matplotlib.lines.Line2D at 0x7f8acdf4bb80>,\n",
       " <matplotlib.lines.Line2D at 0x7f8acdf4bc40>,\n",
       " <matplotlib.lines.Line2D at 0x7f8acdf4bd00>,\n",
       " <matplotlib.lines.Line2D at 0x7f8acdf4bdc0>,\n",
       " <matplotlib.lines.Line2D at 0x7f8acdf4be80>,\n",
       " <matplotlib.lines.Line2D at 0x7f8acdf4bf40>,\n",
       " <matplotlib.lines.Line2D at 0x7f8ace009040>,\n",
       " <matplotlib.lines.Line2D at 0x7f8ace009100>,\n",
       " <matplotlib.lines.Line2D at 0x7f8ace0091c0>,\n",
       " <matplotlib.lines.Line2D at 0x7f8ace009280>,\n",
       " <matplotlib.lines.Line2D at 0x7f8ace009340>,\n",
       " <matplotlib.lines.Line2D at 0x7f8ace009400>,\n",
       " <matplotlib.lines.Line2D at 0x7f8ace0094c0>,\n",
       " <matplotlib.lines.Line2D at 0x7f8ace009580>,\n",
       " <matplotlib.lines.Line2D at 0x7f8ace009640>,\n",
       " <matplotlib.lines.Line2D at 0x7f8ace009700>,\n",
       " <matplotlib.lines.Line2D at 0x7f8ace0097c0>,\n",
       " <matplotlib.lines.Line2D at 0x7f8ace009880>,\n",
       " <matplotlib.lines.Line2D at 0x7f8ace009940>,\n",
       " <matplotlib.lines.Line2D at 0x7f8ace009a00>,\n",
       " <matplotlib.lines.Line2D at 0x7f8ace009ac0>,\n",
       " <matplotlib.lines.Line2D at 0x7f8ace009b80>,\n",
       " <matplotlib.lines.Line2D at 0x7f8ace009c40>,\n",
       " <matplotlib.lines.Line2D at 0x7f8ace009d00>,\n",
       " <matplotlib.lines.Line2D at 0x7f8ace009dc0>,\n",
       " <matplotlib.lines.Line2D at 0x7f8ace009e80>,\n",
       " <matplotlib.lines.Line2D at 0x7f8ace009f40>,\n",
       " <matplotlib.lines.Line2D at 0x7f8ace00e040>,\n",
       " <matplotlib.lines.Line2D at 0x7f8ace00e100>,\n",
       " <matplotlib.lines.Line2D at 0x7f8ace00e1c0>,\n",
       " <matplotlib.lines.Line2D at 0x7f8ace00e280>,\n",
       " <matplotlib.lines.Line2D at 0x7f8ace00e340>,\n",
       " <matplotlib.lines.Line2D at 0x7f8ace00e400>,\n",
       " <matplotlib.lines.Line2D at 0x7f8ace00e4c0>,\n",
       " <matplotlib.lines.Line2D at 0x7f8ace00e580>,\n",
       " <matplotlib.lines.Line2D at 0x7f8ace00e640>,\n",
       " <matplotlib.lines.Line2D at 0x7f8ace00e700>,\n",
       " <matplotlib.lines.Line2D at 0x7f8ace00e7c0>,\n",
       " <matplotlib.lines.Line2D at 0x7f8ace00e880>,\n",
       " <matplotlib.lines.Line2D at 0x7f8ace00e940>,\n",
       " <matplotlib.lines.Line2D at 0x7f8ace00ea00>,\n",
       " <matplotlib.lines.Line2D at 0x7f8ace00eac0>,\n",
       " <matplotlib.lines.Line2D at 0x7f8ace00eb80>,\n",
       " <matplotlib.lines.Line2D at 0x7f8ace00ec40>,\n",
       " <matplotlib.lines.Line2D at 0x7f8ace00ed00>,\n",
       " <matplotlib.lines.Line2D at 0x7f8ace00edc0>,\n",
       " <matplotlib.lines.Line2D at 0x7f8ace00ee80>,\n",
       " <matplotlib.lines.Line2D at 0x7f8ace00ef40>,\n",
       " <matplotlib.lines.Line2D at 0x7f8ace014040>,\n",
       " <matplotlib.lines.Line2D at 0x7f8ace014100>,\n",
       " <matplotlib.lines.Line2D at 0x7f8ace0141c0>,\n",
       " <matplotlib.lines.Line2D at 0x7f8ace014280>,\n",
       " <matplotlib.lines.Line2D at 0x7f8ace014340>,\n",
       " <matplotlib.lines.Line2D at 0x7f8ace014400>,\n",
       " <matplotlib.lines.Line2D at 0x7f8ace0144c0>,\n",
       " <matplotlib.lines.Line2D at 0x7f8ace014580>,\n",
       " <matplotlib.lines.Line2D at 0x7f8ace014640>,\n",
       " <matplotlib.lines.Line2D at 0x7f8ace014700>,\n",
       " <matplotlib.lines.Line2D at 0x7f8ace0147c0>,\n",
       " <matplotlib.lines.Line2D at 0x7f8ace014880>,\n",
       " <matplotlib.lines.Line2D at 0x7f8ace014940>,\n",
       " <matplotlib.lines.Line2D at 0x7f8ace014a00>,\n",
       " <matplotlib.lines.Line2D at 0x7f8ace014ac0>,\n",
       " <matplotlib.lines.Line2D at 0x7f8ace014b80>]"
      ]
     },
     "execution_count": 130,
     "metadata": {},
     "output_type": "execute_result"
    },
    {
     "data": {
      "image/png": "[encoded data removed]",
      "text/plain": [
       "<Figure size 432x288 with 1 Axes>"
      ]
     },
     "metadata": {
      "needs_background": "light"
     },
     "output_type": "display_data"
    }
   ],
   "source": [
    "plt.plot(t, np.array(x) - np.array(y), 'bo', color='green')\n",
    "plt.xlabel('time')\n",
    "plt.ylabel('residual')\n",
    "plt.plot(t, resmean, color='red')"
   ]
  },
  {
   "cell_type": "code",
   "execution_count": 153,
   "id": "a58468d2",
   "metadata": {},
   "outputs": [],
   "source": [
    "# gradual shift of mean\n",
    "x = []\n",
    "y = []\n",
    "t = 300\n",
    "for i in range(t):\n",
    "    xt = np.random.normal(0, 1)\n",
    "    yt = xt + np.random.normal(np.log(t), np.log(t))\n",
    "    x.append(xt)\n",
    "    y.append(yt)"
   ]
  },
  {
   "cell_type": "code",
   "execution_count": 154,
   "id": "d0ea9c0f",
   "metadata": {},
   "outputs": [
    {
     "data": {
      "text/plain": [
       "[<matplotlib.lines.Line2D at 0x7f8acebc9d30>]"
      ]
     },
     "execution_count": 154,
     "metadata": {},
     "output_type": "execute_result"
    },
    {
     "data": {
      "image/png": "[encoded data removed]",
      "text/plain": [
       "<Figure size 432x288 with 1 Axes>"
      ]
     },
     "metadata": {
      "needs_background": "light"
     },
     "output_type": "display_data"
    }
   ],
   "source": [
    "plt.plot(np.arange(t), np.array(x) - np.array(y), 'bo')"
   ]
  },
  {
   "cell_type": "code",
   "execution_count": 156,
   "id": "b000ee80",
   "metadata": {},
   "outputs": [],
   "source": [
    "# generate data (change point mode), user needs to configure structural equations\n",
    "\n",
    "# x1->x2->y\n",
    "\n",
    "# two change points\n",
    "n = 300\n",
    "t1 = 100\n",
    "t2 = 200\n",
    "x1 = []\n",
    "x2 = []\n",
    "y = []\n",
    "for t in range(t1):\n",
    "    xt1 = np.random.normal(0, 1)\n",
    "    xt2 = 2 * xt1 + np.random.normal(0, 1)\n",
    "    y.append(3 * xt2 + np.random.normal(0, 1))\n",
    "    x1.append(xt1)\n",
    "    x2.append(xt2)\n",
    "for t in range(t1, t2): # intervene on x1\n",
    "    x1.append(2)\n",
    "    xt2 = 2 * xt1 + np.random.normal(0, 1)\n",
    "    y.append(3 * xt2 + np.random.normal(0, 1))\n",
    "    x2.append(xt2)\n",
    "for t in range(t2, n): #intervene on x2\n",
    "    x1.append(np.random.normal(0, 1))\n",
    "    xt2 = np.random.normal(0, 1)\n",
    "    y.append(3 * xt2 + np.random.normal(0, 1))\n",
    "    x2.append(xt2)"
   ]
  },
  {
   "cell_type": "code",
   "execution_count": 157,
   "id": "de32ebe8",
   "metadata": {},
   "outputs": [
    {
     "data": {
      "text/plain": [
       "[<matplotlib.lines.Line2D at 0x7f8ace106670>]"
      ]
     },
     "execution_count": 157,
     "metadata": {},
     "output_type": "execute_result"
    },
    {
     "data": {
      "image/png": "[encoded data removed]",
      "text/plain": [
       "<Figure size 432x288 with 1 Axes>"
      ]
     },
     "metadata": {
      "needs_background": "light"
     },
     "output_type": "display_data"
    }
   ],
   "source": [
    "plt.plot(np.arange(n), x1, 'bo')"
   ]
  },
  {
   "cell_type": "code",
   "execution_count": 158,
   "id": "b4d616da",
   "metadata": {
    "scrolled": true
   },
   "outputs": [
    {
     "data": {
      "text/plain": [
       "[<matplotlib.lines.Line2D at 0x7f8aceb13a60>]"
      ]
     },
     "execution_count": 158,
     "metadata": {},
     "output_type": "execute_result"
    },
    {
     "data": {
      "image/png": "[encoded data removed]",
      "text/plain": [
       "<Figure size 432x288 with 1 Axes>"
      ]
     },
     "metadata": {
      "needs_background": "light"
     },
     "output_type": "display_data"
    }
   ],
   "source": [
    "plt.plot(np.arange(n), x2, 'bo', color='red')"
   ]
  },
  {
   "cell_type": "code",
   "execution_count": 160,
   "id": "d04e552f",
   "metadata": {
    "scrolled": true
   },
   "outputs": [
    {
     "data": {
      "text/plain": [
       "[<matplotlib.lines.Line2D at 0x7f8accd77670>]"
      ]
     },
     "execution_count": 160,
     "metadata": {},
     "output_type": "execute_result"
    },
    {
     "data": {
      "image/png": "[encoded data removed]",
      "text/plain": [
       "<Figure size 432x288 with 1 Axes>"
      ]
     },
     "metadata": {
      "needs_background": "light"
     },
     "output_type": "display_data"
    }
   ],
   "source": [
    "plt.plot(np.arange(n), y, 'bo', color='green')"
   ]
  },
  {
   "cell_type": "code",
   "execution_count": 167,
   "id": "a65064ab",
   "metadata": {
    "scrolled": true
   },
   "outputs": [
    {
     "data": {
      "text/plain": [
       "(3, 300)"
      ]
     },
     "execution_count": 167,
     "metadata": {},
     "output_type": "execute_result"
    }
   ],
   "source": [
    "d1 = np.array([y, x1, x2])\n",
    "d1.shape"
   ]
  },
  {
   "cell_type": "code",
   "execution_count": 400,
   "id": "d24a332b",
   "metadata": {},
   "outputs": [],
   "source": [
    "epsilon = 1e-6"
   ]
  },
  {
   "cell_type": "code",
   "execution_count": 390,
   "id": "e02ef808",
   "metadata": {},
   "outputs": [],
   "source": [
    "def multi_norm(x, mu, sigma):\n",
    "    epsilon = 1e-6\n",
    "    x = np.array(x)\n",
    "#     print(np.transpose(x - mu)@linalg.inv(sigma)@(x - mu))\n",
    "    return(((linalg.det(2 * np.pi * sigma) + epsilon)**(-0.5)) * np.exp(-0.5 * np.transpose(x - mu)@linalg.inv(sigma)@(x - mu)))"
   ]
  },
  {
   "cell_type": "code",
   "execution_count": 395,
   "id": "1de3fe25",
   "metadata": {},
   "outputs": [],
   "source": [
    "def multi_normal_density(x,mean,variance):\n",
    "    return -len(x)/2*np.log(2*np.pi)-np.log(np.linalg.det(variance)+epsilon)/2-1/2*((x-mean)@np.linalg.inv(variance+np.diag([epsilon]*variance.shape[0]))@(x-mean))"
   ]
  },
  {
   "cell_type": "code",
   "execution_count": 396,
   "id": "f3e676d9",
   "metadata": {},
   "outputs": [],
   "source": [
    "def single_normal_density(x,mean,variance):\n",
    "    return -1/2*np.log(2*np.pi*variance+epsilon)-1/2/(variance+epsilon)*(x-mean)*(x-mean)"
   ]
  },
  {
   "cell_type": "code",
   "execution_count": 391,
   "id": "cb5dbf85",
   "metadata": {},
   "outputs": [],
   "source": [
    "def sing_norm(x, mu, sigma):\n",
    "    epsilon = 1e-6\n",
    "#     print(float(sigma)**(-1))\n",
    "    return(((2 * np.pi * sigma + epsilon)**(-0.5)) * np.exp(-0.5 * float(sigma)**(-1) * (x - mu)**2))"
   ]
  },
  {
   "cell_type": "code",
   "execution_count": 416,
   "id": "5ad49996",
   "metadata": {},
   "outputs": [],
   "source": [
    "# HG\n",
    "# data[array]: [y, x1, ..., xp]\n",
    "# y[array]: y[t] is scalar\n",
    "# xi[array]: xi[t] is scalar\n",
    "# pi[array]: pi[k] is scalar\n",
    "# a[array]: a[k][i] is scalar\n",
    "# sigma[array]: sigma[k][i][j] is scalar\n",
    "# ssquare[array]: ssquare[k] is scalar\n",
    "# b[array]: b[k][d] is scalar\n",
    "# regu[scalar]: the regularizer(lambda)\n",
    "# simutime[scalar]: epoches\n",
    "# K[scalar]: optional number of environments\n",
    "def HG(data, simutime, K, regu=10):\n",
    "    n = len(data[0]) # number of observations\n",
    "    num = len(data) # number of predictors plus one\n",
    "    prob = [[0 for i in range(K)] for t in range(n)] # prob[array]: prob[t][k] is scalar\n",
    "    pi = np.array([1 / K for k in range(K)])\n",
    "    a = np.array([[1 for d in range(num - 1)] for k in range(K)])\n",
    "    sigma = np.array([np.diag([1 for i in range(num - 1)]) for k in range(K)])\n",
    "    ssquare = np.array([1 for k in range(K)])\n",
    "    b = np.array([[1 for d in range(num - 1)] for k in range(K)])\n",
    "    slope = (0.05 - regu) / simutime # regularizer decreases linearly\n",
    "    x = data[1:]\n",
    "    y = data[0]\n",
    "    for time in range(simutime):\n",
    "        print('%d th simulation' % time)\n",
    "        print('pi', pi)\n",
    "        # update prob -- soft clustering\n",
    "        for t in range(n):\n",
    "            element = [] # store summation terms\n",
    "            for k in range(K):\n",
    "                element.append((pi[k] * np.exp(multi_normal_density(x[:, t], a[k], sigma[k])) * \\\n",
    "                               np.exp(single_normal_density(y[t], np.transpose(x[:, t])@b[k], ssquare[k])))**(1 / regu))\n",
    "            denomi = np.sum(element)\n",
    "            for k in range(K):\n",
    "                prob[t][k] = element[k] / (denomi + epsilon)\n",
    "#         print(prob)\n",
    "        # update pi\n",
    "        for k in range(K):\n",
    "            pi[k] = np.sum(prob, axis=0)[k] / n\n",
    "        # update a\n",
    "        for k in range(K):\n",
    "            numer = 0\n",
    "            for t in range(n):\n",
    "                numer += prob[t][k] * x[:, t]\n",
    "            a[k] = numer / np.sum(prob, axis=0)[k]\n",
    "        # update sigma\n",
    "        for k in range(K):\n",
    "            numer = 0 # store the numerator in eq.(5.6)\n",
    "            for t in range(n):\n",
    "                numer += prob[t][k] * (x[:, t] - a[k])@np.transpose((x[:, t] - a[k]))\n",
    "            sigma[k] = numer / np.sum(prob, axis=0)[k]\n",
    "        # update b\n",
    "        for k in range(K):\n",
    "            left = 0 # store the left part of eq.(5.8)\n",
    "            right = 0 # store the right part of eq.(5.8)\n",
    "            for t in range(n):\n",
    "                left += prob[t][k] * np.outer(x[:, t], x[:, t].T)\n",
    "                right += prob[t][k] * y[t] * x[:, t]\n",
    "            b[k] = linalg.inv(left)@right\n",
    "        # update ssquare\n",
    "        for k in range(K):\n",
    "            numer = 0 # store the numerator of eq.(5.7)\n",
    "            for t in range(n):\n",
    "                numer += prob[t][k] * (y[t] - np.transpose(x[:, t])@b[k])**2\n",
    "            ssquare[k] = numer / np.sum(prob, axis=0)[k]\n",
    "        # update lambda \n",
    "        regu += slope\n",
    "        "
   ]
  },
  {
   "cell_type": "code",
   "execution_count": 417,
   "id": "3b99ceec",
   "metadata": {},
   "outputs": [
    {
     "data": {
      "text/plain": [
       "14"
      ]
     },
     "execution_count": 417,
     "metadata": {},
     "output_type": "execute_result"
    }
   ],
   "source": [
    "np.array(np.transpose([1, 2, 3]))@np.array([1, 2, 3])"
   ]
  },
  {
   "cell_type": "code",
   "execution_count": 418,
   "id": "99221d89",
   "metadata": {},
   "outputs": [
    {
     "name": "stdout",
     "output_type": "stream",
     "text": [
      "0 th simulation\n",
      "pi [0.33333333 0.33333333 0.33333333]\n",
      "1 th simulation\n",
      "pi [0.3333304 0.3333304 0.3333304]\n",
      "2 th simulation\n",
      "pi [0.00218242 0.00218242 0.00218242]\n"
     ]
    },
    {
     "name": "stderr",
     "output_type": "stream",
     "text": [
      "<ipython-input-416-c04657d1d3c6>:46: RuntimeWarning: invalid value encountered in true_divide\n",
      "  a[k] = numer / np.sum(prob, axis=0)[k]\n",
      "<ipython-input-416-c04657d1d3c6>:52: RuntimeWarning: invalid value encountered in double_scalars\n",
      "  sigma[k] = numer / np.sum(prob, axis=0)[k]\n"
     ]
    },
    {
     "ename": "ValueError",
     "evalue": "cannot convert float NaN to integer",
     "output_type": "error",
     "traceback": [
      "\u001b[0;31m---------------------------------------------------------------------------\u001b[0m",
      "\u001b[0;31mValueError\u001b[0m                                Traceback (most recent call last)",
      "\u001b[0;32m<ipython-input-418-3e26b3bafca3>\u001b[0m in \u001b[0;36m<module>\u001b[0;34m\u001b[0m\n\u001b[0;32m----> 1\u001b[0;31m \u001b[0mHG\u001b[0m\u001b[0;34m(\u001b[0m\u001b[0md1\u001b[0m\u001b[0;34m,\u001b[0m \u001b[0;36m20\u001b[0m\u001b[0;34m,\u001b[0m \u001b[0;36m3\u001b[0m\u001b[0;34m)\u001b[0m\u001b[0;34m\u001b[0m\u001b[0;34m\u001b[0m\u001b[0m\n\u001b[0m",
      "\u001b[0;32m<ipython-input-416-c04657d1d3c6>\u001b[0m in \u001b[0;36mHG\u001b[0;34m(data, simutime, K, regu)\u001b[0m\n\u001b[1;32m     50\u001b[0m             \u001b[0;32mfor\u001b[0m \u001b[0mt\u001b[0m \u001b[0;32min\u001b[0m \u001b[0mrange\u001b[0m\u001b[0;34m(\u001b[0m\u001b[0mn\u001b[0m\u001b[0;34m)\u001b[0m\u001b[0;34m:\u001b[0m\u001b[0;34m\u001b[0m\u001b[0;34m\u001b[0m\u001b[0m\n\u001b[1;32m     51\u001b[0m                 \u001b[0mnumer\u001b[0m \u001b[0;34m+=\u001b[0m \u001b[0mprob\u001b[0m\u001b[0;34m[\u001b[0m\u001b[0mt\u001b[0m\u001b[0;34m]\u001b[0m\u001b[0;34m[\u001b[0m\u001b[0mk\u001b[0m\u001b[0;34m]\u001b[0m \u001b[0;34m*\u001b[0m \u001b[0;34m(\u001b[0m\u001b[0mx\u001b[0m\u001b[0;34m[\u001b[0m\u001b[0;34m:\u001b[0m\u001b[0;34m,\u001b[0m \u001b[0mt\u001b[0m\u001b[0;34m]\u001b[0m \u001b[0;34m-\u001b[0m \u001b[0ma\u001b[0m\u001b[0;34m[\u001b[0m\u001b[0mk\u001b[0m\u001b[0;34m]\u001b[0m\u001b[0;34m)\u001b[0m\u001b[0;34m@\u001b[0m\u001b[0mnp\u001b[0m\u001b[0;34m.\u001b[0m\u001b[0mtranspose\u001b[0m\u001b[0;34m(\u001b[0m\u001b[0;34m(\u001b[0m\u001b[0mx\u001b[0m\u001b[0;34m[\u001b[0m\u001b[0;34m:\u001b[0m\u001b[0;34m,\u001b[0m \u001b[0mt\u001b[0m\u001b[0;34m]\u001b[0m \u001b[0;34m-\u001b[0m \u001b[0ma\u001b[0m\u001b[0;34m[\u001b[0m\u001b[0mk\u001b[0m\u001b[0;34m]\u001b[0m\u001b[0;34m)\u001b[0m\u001b[0;34m)\u001b[0m\u001b[0;34m\u001b[0m\u001b[0;34m\u001b[0m\u001b[0m\n\u001b[0;32m---> 52\u001b[0;31m             \u001b[0msigma\u001b[0m\u001b[0;34m[\u001b[0m\u001b[0mk\u001b[0m\u001b[0;34m]\u001b[0m \u001b[0;34m=\u001b[0m \u001b[0mnumer\u001b[0m \u001b[0;34m/\u001b[0m \u001b[0mnp\u001b[0m\u001b[0;34m.\u001b[0m\u001b[0msum\u001b[0m\u001b[0;34m(\u001b[0m\u001b[0mprob\u001b[0m\u001b[0;34m,\u001b[0m \u001b[0maxis\u001b[0m\u001b[0;34m=\u001b[0m\u001b[0;36m0\u001b[0m\u001b[0;34m)\u001b[0m\u001b[0;34m[\u001b[0m\u001b[0mk\u001b[0m\u001b[0;34m]\u001b[0m\u001b[0;34m\u001b[0m\u001b[0;34m\u001b[0m\u001b[0m\n\u001b[0m\u001b[1;32m     53\u001b[0m         \u001b[0;31m# update b\u001b[0m\u001b[0;34m\u001b[0m\u001b[0;34m\u001b[0m\u001b[0;34m\u001b[0m\u001b[0m\n\u001b[1;32m     54\u001b[0m         \u001b[0;32mfor\u001b[0m \u001b[0mk\u001b[0m \u001b[0;32min\u001b[0m \u001b[0mrange\u001b[0m\u001b[0;34m(\u001b[0m\u001b[0mK\u001b[0m\u001b[0;34m)\u001b[0m\u001b[0;34m:\u001b[0m\u001b[0;34m\u001b[0m\u001b[0;34m\u001b[0m\u001b[0m\n",
      "\u001b[0;31mValueError\u001b[0m: cannot convert float NaN to integer"
     ]
    }
   ],
   "source": [
    "HG(d1, 20, 3)"
   ]
  },
  {
   "cell_type": "code",
   "execution_count": 326,
   "id": "84432005",
   "metadata": {},
   "outputs": [],
   "source": [
    "np.sum?"
   ]
  },
  {
   "cell_type": "code",
   "execution_count": 176,
   "id": "cd7e41b6",
   "metadata": {},
   "outputs": [],
   "source": [
    "linalg.det?"
   ]
  },
  {
   "cell_type": "code",
   "execution_count": 252,
   "id": "eb00d71e",
   "metadata": {},
   "outputs": [
    {
     "data": {
      "text/plain": [
       "0.25"
      ]
     },
     "execution_count": 252,
     "metadata": {},
     "output_type": "execute_result"
    }
   ],
   "source": [
    "4**(-1)"
   ]
  },
  {
   "cell_type": "code",
   "execution_count": 261,
   "id": "5734feb3",
   "metadata": {},
   "outputs": [
    {
     "data": {
      "text/plain": [
       "1.0"
      ]
     },
     "execution_count": 261,
     "metadata": {},
     "output_type": "execute_result"
    }
   ],
   "source": [
    "1**(-1)"
   ]
  },
  {
   "cell_type": "code",
   "execution_count": 350,
   "id": "79ac3fcc",
   "metadata": {},
   "outputs": [
    {
     "data": {
      "text/plain": [
       "array([-0.5783304 , -0.33447339])"
      ]
     },
     "execution_count": 350,
     "metadata": {},
     "output_type": "execute_result"
    }
   ],
   "source": [
    "d1[1:][:, 200]"
   ]
  },
  {
   "cell_type": "code",
   "execution_count": 362,
   "id": "eaacf472",
   "metadata": {},
   "outputs": [],
   "source": [
    "np.diag?"
   ]
  },
  {
   "cell_type": "code",
   "execution_count": 419,
   "id": "ed9b3860",
   "metadata": {},
   "outputs": [],
   "source": [
    "plt.plot?"
   ]
  },
  {
   "cell_type": "code",
   "execution_count": 420,
   "id": "26589224",
   "metadata": {},
   "outputs": [],
   "source": [
    "np.matrix?"
   ]
  },
  {
   "cell_type": "code",
   "execution_count": 421,
   "id": "b0152eaf",
   "metadata": {},
   "outputs": [
    {
     "data": {
      "text/plain": [
       "matrix([[1, 2, 3, 4]])"
      ]
     },
     "execution_count": 421,
     "metadata": {},
     "output_type": "execute_result"
    }
   ],
   "source": [
    "np.matrix([1, 2, 3, 4])"
   ]
  },
  {
   "cell_type": "code",
   "execution_count": 422,
   "id": "d3240cde",
   "metadata": {},
   "outputs": [],
   "source": [
    "a = np.array([1, 2, 3, 4])"
   ]
  },
  {
   "cell_type": "code",
   "execution_count": 423,
   "id": "50a1c6b2",
   "metadata": {},
   "outputs": [
    {
     "data": {
      "text/plain": [
       "array([[1, 2],\n",
       "       [3, 4]])"
      ]
     },
     "execution_count": 423,
     "metadata": {},
     "output_type": "execute_result"
    }
   ],
   "source": [
    "a.reshape(2, 2)"
   ]
  },
  {
   "cell_type": "code",
   "execution_count": 424,
   "id": "16dffeda",
   "metadata": {},
   "outputs": [
    {
     "data": {
      "text/plain": [
       "array([1, 2, 3, 4])"
      ]
     },
     "execution_count": 424,
     "metadata": {},
     "output_type": "execute_result"
    }
   ],
   "source": [
    "a"
   ]
  },
  {
   "cell_type": "code",
   "execution_count": null,
   "id": "7864bab9",
   "metadata": {},
   "outputs": [],
   "source": []
  }
 ],
 "metadata": {
  "kernelspec": {
   "display_name": "Python 3",
   "language": "python",
   "name": "python3"
  },
  "language_info": {
   "codemirror_mode": {
    "name": "ipython",
    "version": 3
   },
   "file_extension": ".py",
   "mimetype": "text/x-python",
   "name": "python",
   "nbconvert_exporter": "python",
   "pygments_lexer": "ipython3",
   "version": "3.8.8"
  }
 },
 "nbformat": 4,
 "nbformat_minor": 5
}
